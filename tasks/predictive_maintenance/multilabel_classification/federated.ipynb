{
 "cells": [
  {
   "cell_type": "code",
   "execution_count": 1,
   "metadata": {},
   "outputs": [],
   "source": [
    "import pandas as pd\n",
    "from sklearn.model_selection import train_test_split\n",
    "from torch.utils.data import Dataset, DataLoader, Subset\n",
    "import torch.nn as nn\n",
    "import torch.optim as optim\n",
    "import numpy as np\n",
    "from sklearn.preprocessing import LabelEncoder\n",
    "\n",
    "import sys\n",
    "sys.path.append('../../scripts')\n",
    "from datasets_gen import CustomDataset\n",
    "from simple_nn import SimpleNN, train, test, run_model\n",
    "from federated_functions import average_model_weights, create_subsets"
   ]
  },
  {
   "cell_type": "code",
   "execution_count": 2,
   "metadata": {},
   "outputs": [],
   "source": [
    "df = pd.read_csv(\"../../datasets/multi_class_classification.csv\", index_col=[0])"
   ]
  },
  {
   "cell_type": "code",
   "execution_count": 3,
   "metadata": {},
   "outputs": [],
   "source": [
    "X = df.drop(columns='Failure Type')\n",
    "Y = df['Failure Type']"
   ]
  },
  {
   "cell_type": "code",
   "execution_count": 4,
   "metadata": {},
   "outputs": [],
   "source": [
    "# Perform one-hot encoding to Y\n",
    "le = LabelEncoder()\n",
    "le.fit(Y)\n",
    "Y_transformed = le.fit_transform(Y)\n",
    "Y_transformed = pd.Series(Y_transformed)"
   ]
  },
  {
   "cell_type": "code",
   "execution_count": 5,
   "metadata": {},
   "outputs": [
    {
     "name": "stdout",
     "output_type": "stream",
     "text": [
      "Classes: ['Heat Dissipation Failure' 'No Failure' 'Overstrain Failure'\n",
      " 'Power Failure' 'Random Failures' 'Tool Wear Failure']\n",
      "Encoded values: [0 1 2 3 4 5]\n"
     ]
    }
   ],
   "source": [
    "print(\"Classes:\", le.classes_)\n",
    "print(\"Encoded values:\", le.transform(le.classes_))"
   ]
  },
  {
   "cell_type": "code",
   "execution_count": 6,
   "metadata": {},
   "outputs": [],
   "source": [
    "x_train, x_test, y_train, y_test = train_test_split(X, Y_transformed, test_size=0.2, random_state=42)"
   ]
  },
  {
   "cell_type": "code",
   "execution_count": 7,
   "metadata": {},
   "outputs": [],
   "source": [
    "train_dataset = CustomDataset(x_train, y_train)\n",
    "test_dataset = CustomDataset(x_test, y_test)"
   ]
  },
  {
   "cell_type": "markdown",
   "metadata": {},
   "source": [
    "## Creating Models"
   ]
  },
  {
   "cell_type": "code",
   "execution_count": 8,
   "metadata": {},
   "outputs": [],
   "source": [
    "input_size = X.shape[1]\n",
    "hidden_size = 10\n",
    "num_classes = 6\n",
    "\n",
    "model_1 = model_2 =  model_3 = model_4 = model_5 = SimpleNN(input_size, hidden_size, num_classes)\n",
    "models = [model_1, model_2, model_3, model_4, model_5]\n",
    "trained_weights = []"
   ]
  },
  {
   "cell_type": "code",
   "execution_count": 9,
   "metadata": {},
   "outputs": [],
   "source": [
    "subsets = []\n",
    "num_subsets = 5\n",
    "create_subsets(num_subsets=5, train_dataset=train_dataset, subsets=subsets)"
   ]
  },
  {
   "cell_type": "code",
   "execution_count": 10,
   "metadata": {},
   "outputs": [
    {
     "name": "stdout",
     "output_type": "stream",
     "text": [
      "Model 1\n",
      "loss = 207.96748985134764\n",
      "accuracy = 0.9675\n",
      "Model 2\n",
      "loss = 186.17553195543587\n",
      "accuracy = 0.968\n",
      "Model 3\n",
      "loss = 160.1674523795955\n",
      "accuracy = 0.9675\n",
      "Model 4\n",
      "loss = 162.2254728821572\n",
      "accuracy = 0.9675\n",
      "Model 5\n",
      "loss = 157.13491592742503\n",
      "accuracy = 0.9675\n"
     ]
    }
   ],
   "source": [
    "for i in range(num_subsets):\n",
    "    print(f\"Model {i+1}\")\n",
    "    run_model(epochs=5, lr=0.01, model=models[i], weights_list=trained_weights, train_dataset=subsets[i], test_dataset=test_dataset )"
   ]
  },
  {
   "cell_type": "code",
   "execution_count": 14,
   "metadata": {},
   "outputs": [
    {
     "name": "stdout",
     "output_type": "stream",
     "text": [
      "loss = 157.13491592742503\n",
      "accuracy = 0.9675\n"
     ]
    }
   ],
   "source": [
    "average_weights = average_model_weights(weight_list=trained_weights)\n",
    "new_model = SimpleNN(input_size, hidden_size, num_classes)\n",
    "new_model.load_state_dict(average_weights)\n",
    "\n",
    "loss, accuracy = test(model_1, DataLoader(test_dataset, batch_size=2, shuffle=False))\n",
    "print(f\"{loss = }\")\n",
    "print(f\"{accuracy = }\")"
   ]
  },
  {
   "cell_type": "code",
   "execution_count": null,
   "metadata": {},
   "outputs": [],
   "source": []
  }
 ],
 "metadata": {
  "kernelspec": {
   "display_name": "fed-learning",
   "language": "python",
   "name": "fed-learning"
  },
  "language_info": {
   "codemirror_mode": {
    "name": "ipython",
    "version": 3
   },
   "file_extension": ".py",
   "mimetype": "text/x-python",
   "name": "python",
   "nbconvert_exporter": "python",
   "pygments_lexer": "ipython3",
   "version": "3.9.13"
  }
 },
 "nbformat": 4,
 "nbformat_minor": 2
}
