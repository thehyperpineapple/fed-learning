{
 "cells": [
  {
   "cell_type": "code",
   "execution_count": 1,
   "metadata": {},
   "outputs": [],
   "source": [
    "import pandas as pd\n",
    "from sklearn.model_selection import train_test_split\n",
    "from torch.utils.data import DataLoader\n",
    "import sys\n",
    "import torch\n",
    "sys.path.append('../../scripts')\n",
    "from datasets_gen import CustomDataset\n",
    "from simple_nn import SimpleNN, train, test, run_model\n",
    "from federated_functions import average_model_weights"
   ]
  },
  {
   "cell_type": "code",
   "execution_count": 2,
   "metadata": {},
   "outputs": [],
   "source": [
    "df = pd.read_csv(\"../../datasets/telemetry_analysis/processed/telemetry_analysis.csv\", index_col=[0])"
   ]
  },
  {
   "cell_type": "code",
   "execution_count": 3,
   "metadata": {},
   "outputs": [],
   "source": [
    "X = df.drop(columns= ['encoded_errors'])\n",
    "Y = df['encoded_errors']"
   ]
  },
  {
   "cell_type": "code",
   "execution_count": 4,
   "metadata": {},
   "outputs": [
    {
     "data": {
      "text/plain": [
       "(pandas.core.frame.DataFrame, pandas.core.series.Series)"
      ]
     },
     "execution_count": 4,
     "metadata": {},
     "output_type": "execute_result"
    }
   ],
   "source": [
    "type(X), type(Y)"
   ]
  },
  {
   "cell_type": "code",
   "execution_count": 5,
   "metadata": {},
   "outputs": [],
   "source": [
    "x_train, x_test, y_train, y_test = train_test_split(X, Y, test_size=0.2, random_state=42)"
   ]
  },
  {
   "cell_type": "code",
   "execution_count": 6,
   "metadata": {},
   "outputs": [
    {
     "data": {
      "text/html": [
       "<div>\n",
       "<style scoped>\n",
       "    .dataframe tbody tr th:only-of-type {\n",
       "        vertical-align: middle;\n",
       "    }\n",
       "\n",
       "    .dataframe tbody tr th {\n",
       "        vertical-align: top;\n",
       "    }\n",
       "\n",
       "    .dataframe thead th {\n",
       "        text-align: right;\n",
       "    }\n",
       "</style>\n",
       "<table border=\"1\" class=\"dataframe\">\n",
       "  <thead>\n",
       "    <tr style=\"text-align: right;\">\n",
       "      <th></th>\n",
       "      <th>machineID</th>\n",
       "      <th>volt</th>\n",
       "      <th>rotate</th>\n",
       "      <th>pressure</th>\n",
       "      <th>vibration</th>\n",
       "    </tr>\n",
       "  </thead>\n",
       "  <tbody>\n",
       "    <tr>\n",
       "      <th>832069</th>\n",
       "      <td>95</td>\n",
       "      <td>0.602489</td>\n",
       "      <td>0.622592</td>\n",
       "      <td>0.695032</td>\n",
       "      <td>0.506543</td>\n",
       "    </tr>\n",
       "    <tr>\n",
       "      <th>2508</th>\n",
       "      <td>1</td>\n",
       "      <td>0.659271</td>\n",
       "      <td>0.610608</td>\n",
       "      <td>0.553617</td>\n",
       "      <td>0.557782</td>\n",
       "    </tr>\n",
       "    <tr>\n",
       "      <th>796662</th>\n",
       "      <td>91</td>\n",
       "      <td>0.672887</td>\n",
       "      <td>0.623010</td>\n",
       "      <td>0.538234</td>\n",
       "      <td>0.494785</td>\n",
       "    </tr>\n",
       "    <tr>\n",
       "      <th>1411</th>\n",
       "      <td>1</td>\n",
       "      <td>0.630805</td>\n",
       "      <td>0.557530</td>\n",
       "      <td>0.539619</td>\n",
       "      <td>0.522884</td>\n",
       "    </tr>\n",
       "    <tr>\n",
       "      <th>261833</th>\n",
       "      <td>30</td>\n",
       "      <td>0.697842</td>\n",
       "      <td>0.622484</td>\n",
       "      <td>0.502924</td>\n",
       "      <td>0.649536</td>\n",
       "    </tr>\n",
       "    <tr>\n",
       "      <th>...</th>\n",
       "      <td>...</td>\n",
       "      <td>...</td>\n",
       "      <td>...</td>\n",
       "      <td>...</td>\n",
       "      <td>...</td>\n",
       "    </tr>\n",
       "    <tr>\n",
       "      <th>259178</th>\n",
       "      <td>30</td>\n",
       "      <td>0.753139</td>\n",
       "      <td>0.625635</td>\n",
       "      <td>0.497996</td>\n",
       "      <td>0.497549</td>\n",
       "    </tr>\n",
       "    <tr>\n",
       "      <th>365838</th>\n",
       "      <td>42</td>\n",
       "      <td>0.617446</td>\n",
       "      <td>0.707746</td>\n",
       "      <td>0.737744</td>\n",
       "      <td>0.470528</td>\n",
       "    </tr>\n",
       "    <tr>\n",
       "      <th>131932</th>\n",
       "      <td>16</td>\n",
       "      <td>0.740271</td>\n",
       "      <td>0.589553</td>\n",
       "      <td>0.590955</td>\n",
       "      <td>0.599203</td>\n",
       "    </tr>\n",
       "    <tr>\n",
       "      <th>671155</th>\n",
       "      <td>77</td>\n",
       "      <td>0.761218</td>\n",
       "      <td>0.851997</td>\n",
       "      <td>0.492759</td>\n",
       "      <td>0.581905</td>\n",
       "    </tr>\n",
       "    <tr>\n",
       "      <th>121958</th>\n",
       "      <td>14</td>\n",
       "      <td>0.745417</td>\n",
       "      <td>0.628050</td>\n",
       "      <td>0.485034</td>\n",
       "      <td>0.576390</td>\n",
       "    </tr>\n",
       "  </tbody>\n",
       "</table>\n",
       "<p>701122 rows × 5 columns</p>\n",
       "</div>"
      ],
      "text/plain": [
       "        machineID      volt    rotate  pressure  vibration\n",
       "832069         95  0.602489  0.622592  0.695032   0.506543\n",
       "2508            1  0.659271  0.610608  0.553617   0.557782\n",
       "796662         91  0.672887  0.623010  0.538234   0.494785\n",
       "1411            1  0.630805  0.557530  0.539619   0.522884\n",
       "261833         30  0.697842  0.622484  0.502924   0.649536\n",
       "...           ...       ...       ...       ...        ...\n",
       "259178         30  0.753139  0.625635  0.497996   0.497549\n",
       "365838         42  0.617446  0.707746  0.737744   0.470528\n",
       "131932         16  0.740271  0.589553  0.590955   0.599203\n",
       "671155         77  0.761218  0.851997  0.492759   0.581905\n",
       "121958         14  0.745417  0.628050  0.485034   0.576390\n",
       "\n",
       "[701122 rows x 5 columns]"
      ]
     },
     "execution_count": 6,
     "metadata": {},
     "output_type": "execute_result"
    }
   ],
   "source": [
    "x_train"
   ]
  },
  {
   "cell_type": "code",
   "execution_count": 7,
   "metadata": {},
   "outputs": [],
   "source": [
    "train = pd.concat([x_train, y_train], axis=1)"
   ]
  },
  {
   "cell_type": "code",
   "execution_count": 8,
   "metadata": {},
   "outputs": [
    {
     "name": "stdout",
     "output_type": "stream",
     "text": [
      "<class 'pandas.core.frame.DataFrame'>\n",
      "Index: 701122 entries, 832069 to 121958\n",
      "Data columns (total 6 columns):\n",
      " #   Column          Non-Null Count   Dtype  \n",
      "---  ------          --------------   -----  \n",
      " 0   machineID       701122 non-null  int64  \n",
      " 1   volt            701122 non-null  float64\n",
      " 2   rotate          701122 non-null  float64\n",
      " 3   pressure        701122 non-null  float64\n",
      " 4   vibration       701122 non-null  float64\n",
      " 5   encoded_errors  701122 non-null  int64  \n",
      "dtypes: float64(4), int64(2)\n",
      "memory usage: 37.4 MB\n"
     ]
    }
   ],
   "source": [
    "train.info()"
   ]
  },
  {
   "cell_type": "code",
   "execution_count": 9,
   "metadata": {},
   "outputs": [],
   "source": [
    "# Create a list to hold the DataFrame parts\n",
    "df_parts = []\n",
    "\n",
    "# Define the ranges\n",
    "ranges = [(1, 20), (21, 40), (41, 60), (61, 80), (81, 100)]\n",
    "\n",
    "# Loop through the ranges and slice the DataFrame\n",
    "for start, end in ranges:\n",
    "    df_part = train[(train['machineID'] >= start) & (train['machineID'] <= end)]\n",
    "    df_parts.append(df_part)"
   ]
  },
  {
   "cell_type": "code",
   "execution_count": 10,
   "metadata": {},
   "outputs": [
    {
     "data": {
      "text/plain": [
       "[        machineID      volt    rotate  pressure  vibration  encoded_errors\n",
       " 2508            1  0.659271  0.610608  0.553617   0.557782               1\n",
       " 1411            1  0.630805  0.557530  0.539619   0.522884               1\n",
       " 168657         20  0.577362  0.618472  0.559892   0.609290               1\n",
       " 163016         19  0.616169  0.676592  0.563412   0.580447               1\n",
       " 62264           8  0.703740  0.721674  0.567376   0.515681               1\n",
       " ...           ...       ...       ...       ...        ...             ...\n",
       " 137337         16  0.672545  0.782248  0.570821   0.541290               1\n",
       " 54886           7  0.759167  0.696788  0.547027   0.537574               1\n",
       " 110268         13  0.644481  0.584087  0.492728   0.482480               1\n",
       " 131932         16  0.740271  0.589553  0.590955   0.599203               1\n",
       " 121958         14  0.745417  0.628050  0.485034   0.576390               1\n",
       " \n",
       " [140235 rows x 6 columns],\n",
       "         machineID      volt    rotate  pressure  vibration  encoded_errors\n",
       " 261833         30  0.697842  0.622484  0.502924   0.649536               1\n",
       " 281937         33  0.644517  0.671495  0.458453   0.587398               1\n",
       " 268998         31  0.696609  0.699528  0.539019   0.514695               1\n",
       " 247431         29  0.600981  0.721245  0.461236   0.592524               1\n",
       " 303881         35  0.677200  0.681811  0.561395   0.555365               1\n",
       " ...           ...       ...       ...       ...        ...             ...\n",
       " 321879         37  0.710080  0.567678  0.503275   0.471925               1\n",
       " 329365         38  0.711253  0.704010  0.481608   0.372934               1\n",
       " 278167         32  0.639051  0.605643  0.507057   0.579622               1\n",
       " 191335         22  0.574769  0.653979  0.560771   0.434941               1\n",
       " 259178         30  0.753139  0.625635  0.497996   0.497549               1\n",
       " \n",
       " [140313 rows x 6 columns],\n",
       "         machineID      volt    rotate  pressure  vibration  encoded_errors\n",
       " 427930         49  0.538225  0.749730  0.540304   0.445084               1\n",
       " 354522         41  0.639229  0.632619  0.476588   0.507393               1\n",
       " 494097         57  0.697724  0.553992  0.588913   0.602115               1\n",
       " 407992         47  0.703586  0.619051  0.599670   0.622435               1\n",
       " 363970         42  0.727711  0.544734  0.580747   0.456496               1\n",
       " ...           ...       ...       ...       ...        ...             ...\n",
       " 500186         58  0.619844  0.615054  0.524700   0.592002               1\n",
       " 486232         56  0.624104  0.496829  0.572251   0.658348               1\n",
       " 421909         49  0.787815  0.628498  0.457002   0.554523               1\n",
       " 521430         60  0.640554  0.770871  0.497217   0.516300               1\n",
       " 365838         42  0.617446  0.707746  0.737744   0.470528               1\n",
       " \n",
       " [140261 rows x 6 columns],\n",
       "         machineID      volt    rotate  pressure  vibration  encoded_errors\n",
       " 670974         77  0.754314  0.524068  0.542497   0.520518               1\n",
       " 653327         75  0.550410  0.557857  0.547042   0.564184               1\n",
       " 674914         78  0.701060  0.612976  0.660915   0.513018               1\n",
       " 556759         64  0.661021  0.590669  0.562793   0.451353               1\n",
       " 644833         74  0.683089  0.578914  0.494048   0.574339               1\n",
       " ...           ...       ...       ...       ...        ...             ...\n",
       " 648143         74  0.651078  0.520683  0.591362   0.393448               1\n",
       " 527035         61  0.616893  0.653204  0.526925   0.471705               1\n",
       " 654811         75  0.593787  0.690520  0.481996   0.403434               1\n",
       " 644167         74  0.585585  0.483491  0.520026   0.463052               1\n",
       " 671155         77  0.761218  0.851997  0.492759   0.581905               1\n",
       " \n",
       " [140070 rows x 6 columns],\n",
       "         machineID      volt    rotate  pressure  vibration  encoded_errors\n",
       " 832069         95  0.602489  0.622592  0.695032   0.506543               1\n",
       " 796662         91  0.672887  0.623010  0.538234   0.494785               1\n",
       " 829436         95  0.753829  0.669236  0.503938   0.488374               1\n",
       " 828545         95  0.701959  0.698895  0.592262   0.521095               1\n",
       " 706581         81  0.704903  0.442386  0.602685   0.515604               1\n",
       " ...           ...       ...       ...       ...        ...             ...\n",
       " 791743         91  0.600681  0.698499  0.575481   0.524913               1\n",
       " 776997         89  0.672971  0.632641  0.550541   0.579058               1\n",
       " 718315         82  0.718100  0.477325  0.533803   0.510906               1\n",
       " 787201         90  0.712953  0.708644  0.640154   0.615705               1\n",
       " 732180         84  0.650513  0.682227  0.476244   0.592575               1\n",
       " \n",
       " [140243 rows x 6 columns]]"
      ]
     },
     "execution_count": 10,
     "metadata": {},
     "output_type": "execute_result"
    }
   ],
   "source": [
    "df_parts"
   ]
  },
  {
   "cell_type": "code",
   "execution_count": 11,
   "metadata": {},
   "outputs": [
    {
     "name": "stdout",
     "output_type": "stream",
     "text": [
      "(140235, 4) (140235,)\n",
      "1\n",
      "(140313, 4) (140313,)\n",
      "1\n",
      "(140261, 4) (140261,)\n",
      "1\n",
      "(140070, 4) (140070,)\n",
      "1\n",
      "(140243, 4) (140243,)\n",
      "1\n"
     ]
    }
   ],
   "source": [
    "df_processed =[]\n",
    "for df in range(len(df_parts)):\n",
    "    X = df_parts[df].drop(columns= ['machineID', 'encoded_errors'])\n",
    "    X.shape\n",
    "    Y = df_parts[df].encoded_errors\n",
    "    print(X.shape, Y.shape)\n",
    "    print(Y.iloc[0])\n",
    "    train_dataset = CustomDataset(X, Y)\n",
    "\n",
    "\n",
    "    df_processed.append(train_dataset)\n",
    "x_test = x_test.drop(columns= ['machineID'])\n",
    "test_dataset = CustomDataset(x_test, y_test)"
   ]
  },
  {
   "cell_type": "code",
   "execution_count": 12,
   "metadata": {},
   "outputs": [
    {
     "data": {
      "text/plain": [
       "[<datasets_gen.CustomDataset at 0x249f380a580>,\n",
       " <datasets_gen.CustomDataset at 0x249f381ff10>,\n",
       " <datasets_gen.CustomDataset at 0x249f79c6700>,\n",
       " <datasets_gen.CustomDataset at 0x24986419040>,\n",
       " <datasets_gen.CustomDataset at 0x249864197f0>]"
      ]
     },
     "execution_count": 12,
     "metadata": {},
     "output_type": "execute_result"
    }
   ],
   "source": [
    "df_processed"
   ]
  },
  {
   "cell_type": "code",
   "execution_count": 13,
   "metadata": {},
   "outputs": [],
   "source": [
    "input_size = X.shape[1]\n",
    "hidden_size = 10\n",
    "num_classes = 2\n",
    "\n",
    "model_1 = model_2 =  model_3 = model_4 = model_5 = SimpleNN(input_size, hidden_size, num_classes)\n",
    "models = [model_1, model_2, model_3, model_4, model_5]\n",
    "\n",
    "training_weights = []"
   ]
  },
  {
   "cell_type": "code",
   "execution_count": 14,
   "metadata": {},
   "outputs": [
    {
     "data": {
      "text/plain": [
       "4"
      ]
     },
     "execution_count": 14,
     "metadata": {},
     "output_type": "execute_result"
    }
   ],
   "source": [
    "input_size"
   ]
  },
  {
   "cell_type": "code",
   "execution_count": 15,
   "metadata": {},
   "outputs": [
    {
     "data": {
      "text/plain": [
       "5"
      ]
     },
     "execution_count": 15,
     "metadata": {},
     "output_type": "execute_result"
    }
   ],
   "source": [
    "len(df_processed)"
   ]
  },
  {
   "cell_type": "code",
   "execution_count": 16,
   "metadata": {},
   "outputs": [
    {
     "name": "stdout",
     "output_type": "stream",
     "text": [
      "Model 1\n",
      "Epoch 1\n",
      "Epoch 2\n",
      "Epoch 3\n",
      "Epoch 4\n",
      "Epoch 5\n"
     ]
    },
    {
     "name": "stderr",
     "output_type": "stream",
     "text": [
      "c:\\Users\\ragha\\anaconda3\\envs\\pytorch_env\\lib\\site-packages\\sklearn\\metrics\\_classification.py:1531: UndefinedMetricWarning: Precision is ill-defined and being set to 0.0 in labels with no predicted samples. Use `zero_division` parameter to control this behavior.\n",
      "  _warn_prf(average, modifier, f\"{metric.capitalize()} is\", len(result))\n"
     ]
    },
    {
     "name": "stdout",
     "output_type": "stream",
     "text": [
      "[2463.0169595119078, 0.9956298743160982, 0.9912788466306894, 0.9956298743160982, 0.993449596429198]\n",
      "Model 2\n",
      "Epoch 1\n",
      "Epoch 2\n",
      "Epoch 3\n",
      "Epoch 4\n",
      "Epoch 5\n"
     ]
    },
    {
     "name": "stderr",
     "output_type": "stream",
     "text": [
      "c:\\Users\\ragha\\anaconda3\\envs\\pytorch_env\\lib\\site-packages\\sklearn\\metrics\\_classification.py:1531: UndefinedMetricWarning: Precision is ill-defined and being set to 0.0 in labels with no predicted samples. Use `zero_division` parameter to control this behavior.\n",
      "  _warn_prf(average, modifier, f\"{metric.capitalize()} is\", len(result))\n"
     ]
    },
    {
     "name": "stdout",
     "output_type": "stream",
     "text": [
      "[2461.474209082313, 0.9956298743160982, 0.9912788466306894, 0.9956298743160982, 0.993449596429198]\n",
      "Model 3\n",
      "Epoch 1\n",
      "Epoch 2\n",
      "Epoch 3\n",
      "Epoch 4\n",
      "Epoch 5\n"
     ]
    },
    {
     "name": "stderr",
     "output_type": "stream",
     "text": [
      "c:\\Users\\ragha\\anaconda3\\envs\\pytorch_env\\lib\\site-packages\\sklearn\\metrics\\_classification.py:1531: UndefinedMetricWarning: Precision is ill-defined and being set to 0.0 in labels with no predicted samples. Use `zero_division` parameter to control this behavior.\n",
      "  _warn_prf(average, modifier, f\"{metric.capitalize()} is\", len(result))\n"
     ]
    },
    {
     "name": "stdout",
     "output_type": "stream",
     "text": [
      "[2493.964671781985, 0.9956298743160982, 0.9912788466306894, 0.9956298743160982, 0.993449596429198]\n",
      "Model 4\n",
      "Epoch 1\n",
      "Epoch 2\n",
      "Epoch 3\n",
      "Epoch 4\n",
      "Epoch 5\n"
     ]
    },
    {
     "name": "stderr",
     "output_type": "stream",
     "text": [
      "c:\\Users\\ragha\\anaconda3\\envs\\pytorch_env\\lib\\site-packages\\sklearn\\metrics\\_classification.py:1531: UndefinedMetricWarning: Precision is ill-defined and being set to 0.0 in labels with no predicted samples. Use `zero_division` parameter to control this behavior.\n",
      "  _warn_prf(average, modifier, f\"{metric.capitalize()} is\", len(result))\n"
     ]
    },
    {
     "name": "stdout",
     "output_type": "stream",
     "text": [
      "[2468.677680219058, 0.9956298743160982, 0.9912788466306894, 0.9956298743160982, 0.993449596429198]\n",
      "Model 5\n",
      "Epoch 1\n",
      "Epoch 2\n",
      "Epoch 3\n",
      "Epoch 4\n",
      "Epoch 5\n",
      "[2457.600589037291, 0.9956298743160982, 0.9912788466306894, 0.9956298743160982, 0.993449596429198]\n"
     ]
    },
    {
     "name": "stderr",
     "output_type": "stream",
     "text": [
      "c:\\Users\\ragha\\anaconda3\\envs\\pytorch_env\\lib\\site-packages\\sklearn\\metrics\\_classification.py:1531: UndefinedMetricWarning: Precision is ill-defined and being set to 0.0 in labels with no predicted samples. Use `zero_division` parameter to control this behavior.\n",
      "  _warn_prf(average, modifier, f\"{metric.capitalize()} is\", len(result))\n"
     ]
    }
   ],
   "source": [
    "for i in range(len(df_processed)):\n",
    "    print(f\"Model {i+1}\")\n",
    "    run_model(epochs=5, lr=0.01, model=models[i], weights_list=training_weights, train_dataset=df_processed[i], test_dataset=test_dataset )\n",
    "    torch.save(models[i].state_dict(), f\"federated_models/federated_model_{i+1}.pt\")"
   ]
  },
  {
   "cell_type": "code",
   "execution_count": 17,
   "metadata": {},
   "outputs": [
    {
     "data": {
      "text/plain": [
       "5"
      ]
     },
     "execution_count": 17,
     "metadata": {},
     "output_type": "execute_result"
    }
   ],
   "source": [
    "len(training_weights)"
   ]
  },
  {
   "cell_type": "code",
   "execution_count": 18,
   "metadata": {},
   "outputs": [
    {
     "name": "stderr",
     "output_type": "stream",
     "text": [
      "c:\\Users\\ragha\\anaconda3\\envs\\pytorch_env\\lib\\site-packages\\sklearn\\metrics\\_classification.py:1531: UndefinedMetricWarning: Precision is ill-defined and being set to 0.0 in labels with no predicted samples. Use `zero_division` parameter to control this behavior.\n",
      "  _warn_prf(average, modifier, f\"{metric.capitalize()} is\", len(result))\n"
     ]
    },
    {
     "name": "stdout",
     "output_type": "stream",
     "text": [
      "loss = 2457.6005894650007 \n",
      "accuracy = 0.9956298743160982\n",
      "precision = 0.9912788466306894 \n",
      "recall = 0.9956298743160982\n",
      "f1 = 0.993449596429198 \n"
     ]
    }
   ],
   "source": [
    "average_weights = average_model_weights(weight_list=training_weights)\n",
    "new_model = SimpleNN(input_size, hidden_size, num_classes)\n",
    "new_model.load_state_dict(average_weights)\n",
    "\n",
    "metrics = test(new_model, DataLoader(test_dataset, batch_size=2, shuffle=False))\n",
    "print(f\"loss = {metrics[0]} \")\n",
    "print(f\"accuracy = {metrics[1]}\")\n",
    "print(f\"precision = {metrics[2]} \")\n",
    "print(f\"recall = {metrics[3]}\")\n",
    "print(f\"f1 = {metrics[4]} \")\n"
   ]
  }
 ],
 "metadata": {
  "kernelspec": {
   "display_name": "pytorch_env",
   "language": "python",
   "name": "pytorch_env"
  },
  "language_info": {
   "codemirror_mode": {
    "name": "ipython",
    "version": 3
   },
   "file_extension": ".py",
   "mimetype": "text/x-python",
   "name": "python",
   "nbconvert_exporter": "python",
   "pygments_lexer": "ipython3",
   "version": "3.9.16"
  }
 },
 "nbformat": 4,
 "nbformat_minor": 2
}
