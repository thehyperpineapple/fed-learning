{
 "cells": [
  {
   "cell_type": "code",
   "execution_count": 12,
   "metadata": {},
   "outputs": [],
   "source": [
    "import torch\n",
    "from torch.utils.data import Dataset, DataLoader\n",
    "import pandas as pd\n",
    "from sklearn.model_selection import train_test_split\n",
    "import sys\n",
    "import os\n",
    "sys.path.append('../../scripts')\n",
    "from datasets_gen import CustomDataset\n",
    "from simple_nn import SimpleNN, test, run_model\n",
    "from federated_functions import average_model_weights"
   ]
  },
  {
   "cell_type": "code",
   "execution_count": 13,
   "metadata": {},
   "outputs": [],
   "source": [
    "df = pd.read_csv(\"../../datasets/telemetry_analysis/processed/telemetry_analysis.csv\", index_col=[0])\n",
    "X = df.drop(columns= ['encoded_errors', 'machineID'])\n",
    "Y = df['encoded_errors']\n",
    "\n",
    "x_train, x_test, y_train, y_test = train_test_split(X, Y, test_size=0.2, random_state=42)\n",
    "train_dataset = CustomDataset(x_train, y_train)\n",
    "train_loader = DataLoader(train_dataset, batch_size=2, shuffle=True)\n",
    "\n",
    "input_size = X.shape[1]\n",
    "hidden_size = 10\n",
    "num_classes = 2"
   ]
  },
  {
   "cell_type": "markdown",
   "metadata": {},
   "source": [
    "## Federated Models"
   ]
  },
  {
   "cell_type": "code",
   "execution_count": 4,
   "metadata": {},
   "outputs": [],
   "source": [
    "fed_model_path = os.listdir(\"./federated_models/.\")"
   ]
  },
  {
   "cell_type": "code",
   "execution_count": 7,
   "metadata": {},
   "outputs": [],
   "source": [
    "weights = []\n",
    "for weight in fed_model_path:\n",
    "    weights.append(torch.load(f\"federated_models/{weight}\", weights_only=True))"
   ]
  },
  {
   "cell_type": "code",
   "execution_count": 8,
   "metadata": {},
   "outputs": [
    {
     "data": {
      "text/plain": [
       "[OrderedDict([('fc1.weight',\n",
       "               tensor([[-0.1369, -0.4833,  0.2445, -0.0954],\n",
       "                       [ 0.0524,  0.0314,  0.0333,  0.3736],\n",
       "                       [-0.2641, -0.3768,  0.1026,  0.2117],\n",
       "                       [-0.0337,  1.2335, -0.8771, -0.1039],\n",
       "                       [-0.3538, -0.0901,  0.1150,  0.0294],\n",
       "                       [ 0.2482, -0.3616,  0.3140, -0.3399],\n",
       "                       [ 0.0482,  0.8003, -0.2887,  0.1160],\n",
       "                       [ 0.1926, -0.0124,  0.0478, -0.1305],\n",
       "                       [ 0.3555,  0.1806, -0.3018,  0.1723],\n",
       "                       [-0.4603,  1.1894, -0.8348, -0.1111]])),\n",
       "              ('fc1.bias',\n",
       "               tensor([-0.2006, -0.2817, -0.4494, -0.0400,  0.0250,  0.0700, -0.3336, -0.2605,\n",
       "                       -0.4029,  0.2576])),\n",
       "              ('fc2.weight',\n",
       "               tensor([[-0.0380, -0.1150, -0.1027, -0.2482, -0.2108, -0.0345, -0.1736, -0.2775,\n",
       "                         0.0833, -0.4276],\n",
       "                       [-0.1586, -0.1687,  0.2520,  0.1760,  0.0184, -0.2189,  0.0747,  0.1669,\n",
       "                        -0.1046, -0.0224]])),\n",
       "              ('fc2.bias', tensor([-2.5640,  2.4803]))]),\n",
       " OrderedDict([('fc1.weight',\n",
       "               tensor([[-0.1369, -0.4833,  0.2445, -0.0954],\n",
       "                       [ 0.0538, -0.0262,  0.0091,  0.4503],\n",
       "                       [-0.2641, -0.3768,  0.1026,  0.2117],\n",
       "                       [-0.1496,  1.3115, -0.8233, -0.2127],\n",
       "                       [-0.3538, -0.0901,  0.1150,  0.0294],\n",
       "                       [ 0.2806, -0.4892,  0.3798, -0.4109],\n",
       "                       [-0.0173,  0.7583, -0.3405,  0.0374],\n",
       "                       [ 0.1926, -0.0124,  0.0478, -0.1305],\n",
       "                       [ 0.3530,  0.1783, -0.3032,  0.1702],\n",
       "                       [-0.6470,  1.2919, -0.8482, -0.2614]])),\n",
       "              ('fc1.bias',\n",
       "               tensor([-0.2006, -0.3131, -0.4494,  0.0574,  0.0250,  0.0796, -0.4044, -0.2605,\n",
       "                       -0.4059,  0.3167])),\n",
       "              ('fc2.weight',\n",
       "               tensor([[-0.0380, -0.0643, -0.1027, -0.1369, -0.2108,  0.0073,  0.0248, -0.2775,\n",
       "                         0.0832, -0.3220],\n",
       "                       [-0.1586, -0.2195,  0.2520,  0.0647,  0.0184, -0.2608, -0.1236,  0.1669,\n",
       "                        -0.1044, -0.1281]])),\n",
       "              ('fc2.bias', tensor([-2.7751,  2.6914]))]),\n",
       " OrderedDict([('fc1.weight',\n",
       "               tensor([[-0.1369, -0.4833,  0.2445, -0.0954],\n",
       "                       [ 0.1398, -0.1134,  0.0481,  0.5423],\n",
       "                       [-0.2641, -0.3768,  0.1026,  0.2117],\n",
       "                       [-0.4166,  1.6644, -0.7810, -0.3690],\n",
       "                       [-0.3538, -0.0901,  0.1150,  0.0294],\n",
       "                       [ 0.4718, -0.9254,  0.5108, -0.3698],\n",
       "                       [-0.0248,  0.7549, -0.3477,  0.0303],\n",
       "                       [ 0.1926, -0.0124,  0.0478, -0.1305],\n",
       "                       [ 0.3518,  0.1772, -0.3038,  0.1693],\n",
       "                       [-0.9230,  1.8645, -0.7734, -0.4002]])),\n",
       "              ('fc1.bias',\n",
       "               tensor([-0.2006, -0.3156, -0.4494,  0.1231,  0.0250,  0.0101, -0.4079, -0.2605,\n",
       "                       -0.4073,  0.4848])),\n",
       "              ('fc2.weight',\n",
       "               tensor([[-0.0380, -0.0657, -0.1027, -0.2507, -0.2108,  0.0799,  0.0167, -0.2775,\n",
       "                         0.0832, -0.5128],\n",
       "                       [-0.1586, -0.2181,  0.2520,  0.1785,  0.0184, -0.3335, -0.1156,  0.1669,\n",
       "                        -0.1044,  0.0627]])),\n",
       "              ('fc2.bias', tensor([-2.8280,  2.7443]))]),\n",
       " OrderedDict([('fc1.weight',\n",
       "               tensor([[-0.1369, -0.4833,  0.2445, -0.0954],\n",
       "                       [ 0.1214, -0.2392,  0.0315,  0.6162],\n",
       "                       [-0.2641, -0.3768,  0.1026,  0.2117],\n",
       "                       [-0.5922,  1.6942, -0.7552, -0.6418],\n",
       "                       [-0.3538, -0.0901,  0.1150,  0.0294],\n",
       "                       [ 0.6752, -1.1755,  0.6027, -0.2702],\n",
       "                       [-0.0436,  0.7312, -0.3619,  0.0153],\n",
       "                       [ 0.1926, -0.0124,  0.0478, -0.1305],\n",
       "                       [ 0.3509,  0.1764, -0.3043,  0.1685],\n",
       "                       [-1.0766,  1.9654, -0.7067, -0.7508]])),\n",
       "              ('fc1.bias',\n",
       "               tensor([-0.2006, -0.3943, -0.4494, -0.0170,  0.0250,  0.1506, -0.4359, -0.2605,\n",
       "                       -0.4084,  0.3776])),\n",
       "              ('fc2.weight',\n",
       "               tensor([[-0.0380, -0.0391, -0.1027, -0.1301, -0.2108,  0.0676,  0.0069, -0.2775,\n",
       "                         0.0831, -0.3136],\n",
       "                       [-0.1586, -0.2447,  0.2520,  0.0579,  0.0184, -0.3211, -0.1058,  0.1669,\n",
       "                        -0.1044, -0.1364]])),\n",
       "              ('fc2.bias', tensor([-2.6386,  2.5548]))]),\n",
       " OrderedDict([('fc1.weight',\n",
       "               tensor([[-0.1369, -0.4833,  0.2445, -0.0954],\n",
       "                       [ 0.1594, -0.5114,  0.1572,  0.8603],\n",
       "                       [-0.2641, -0.3768,  0.1026,  0.2117],\n",
       "                       [-0.5238,  2.0355, -0.6869, -0.7777],\n",
       "                       [-0.3538, -0.0901,  0.1150,  0.0294],\n",
       "                       [ 0.6906, -1.7125,  0.6484,  0.0935],\n",
       "                       [-0.0471,  0.7265, -0.3643,  0.0126],\n",
       "                       [ 0.1926, -0.0124,  0.0478, -0.1305],\n",
       "                       [ 0.3503,  0.1759, -0.3046,  0.1680],\n",
       "                       [-1.0092,  2.2287, -0.7014, -0.8661]])),\n",
       "              ('fc1.bias',\n",
       "               tensor([-0.2006, -0.3016, -0.4494,  0.1595,  0.0250,  0.2468, -0.4412, -0.2605,\n",
       "                       -0.4091,  0.5344])),\n",
       "              ('fc2.weight',\n",
       "               tensor([[-0.0380,  0.0296, -0.1027, -0.2631, -0.2108,  0.1811,  0.0063, -0.2775,\n",
       "                         0.0831, -0.5379],\n",
       "                       [-0.1586, -0.3134,  0.2520,  0.1909,  0.0184, -0.4347, -0.1052,  0.1669,\n",
       "                        -0.1043,  0.0879]])),\n",
       "              ('fc2.bias', tensor([-2.6851,  2.6014]))])]"
      ]
     },
     "execution_count": 8,
     "metadata": {},
     "output_type": "execute_result"
    }
   ],
   "source": [
    "weights"
   ]
  },
  {
   "cell_type": "code",
   "execution_count": 9,
   "metadata": {},
   "outputs": [
    {
     "data": {
      "text/plain": [
       "<All keys matched successfully>"
      ]
     },
     "execution_count": 9,
     "metadata": {},
     "output_type": "execute_result"
    }
   ],
   "source": [
    "average_weights = average_model_weights(weight_list=weights)\n",
    "new_model = SimpleNN(input_size, hidden_size, num_classes)\n",
    "new_model.load_state_dict(average_weights)"
   ]
  },
  {
   "cell_type": "code",
   "execution_count": 14,
   "metadata": {},
   "outputs": [
    {
     "name": "stderr",
     "output_type": "stream",
     "text": [
      "c:\\Users\\ragha\\anaconda3\\envs\\pytorch_env\\lib\\site-packages\\sklearn\\metrics\\_classification.py:1531: UndefinedMetricWarning: Precision is ill-defined and being set to 0.0 in labels with no predicted samples. Use `zero_division` parameter to control this behavior.\n",
      "  _warn_prf(average, modifier, f\"{metric.capitalize()} is\", len(result))\n"
     ]
    },
    {
     "data": {
      "text/plain": [
       "[10062.971122074407,\n",
       " 0.9955029224585735,\n",
       " 0.9910260686235607,\n",
       " 0.9955029224585735,\n",
       " 0.9932594510085306]"
      ]
     },
     "execution_count": 14,
     "metadata": {},
     "output_type": "execute_result"
    }
   ],
   "source": [
    "test(new_model, testloader=train_loader)"
   ]
  },
  {
   "cell_type": "markdown",
   "metadata": {},
   "source": [
    "## Conventional Model"
   ]
  },
  {
   "cell_type": "code",
   "execution_count": 22,
   "metadata": {},
   "outputs": [],
   "source": [
    "conventional_weight = torch.load(\"./conventional_model/conventional.pt\", weights_only=True)"
   ]
  },
  {
   "cell_type": "code",
   "execution_count": 26,
   "metadata": {},
   "outputs": [
    {
     "data": {
      "text/plain": [
       "<All keys matched successfully>"
      ]
     },
     "execution_count": 26,
     "metadata": {},
     "output_type": "execute_result"
    }
   ],
   "source": [
    "conventional_model = SimpleNN(input_size, hidden_size, num_classes)\n",
    "conventional_model.load_state_dict(conventional_weight)"
   ]
  },
  {
   "cell_type": "code",
   "execution_count": 27,
   "metadata": {},
   "outputs": [
    {
     "name": "stderr",
     "output_type": "stream",
     "text": [
      "c:\\Users\\ragha\\anaconda3\\envs\\pytorch_env\\lib\\site-packages\\sklearn\\metrics\\_classification.py:1531: UndefinedMetricWarning: Precision is ill-defined and being set to 0.0 in labels with no predicted samples. Use `zero_division` parameter to control this behavior.\n",
      "  _warn_prf(average, modifier, f\"{metric.capitalize()} is\", len(result))\n"
     ]
    },
    {
     "data": {
      "text/plain": [
       "[10069.692924594274,\n",
       " 0.9955029224585735,\n",
       " 0.9910260686235607,\n",
       " 0.9955029224585735,\n",
       " 0.9932594510085306]"
      ]
     },
     "execution_count": 27,
     "metadata": {},
     "output_type": "execute_result"
    }
   ],
   "source": [
    "test(conventional_model, testloader=train_loader)"
   ]
  },
  {
   "cell_type": "code",
   "execution_count": null,
   "metadata": {},
   "outputs": [],
   "source": []
  }
 ],
 "metadata": {
  "kernelspec": {
   "display_name": "pytorch_env",
   "language": "python",
   "name": "pytorch_env"
  },
  "language_info": {
   "codemirror_mode": {
    "name": "ipython",
    "version": 3
   },
   "file_extension": ".py",
   "mimetype": "text/x-python",
   "name": "python",
   "nbconvert_exporter": "python",
   "pygments_lexer": "ipython3",
   "version": "3.9.16"
  }
 },
 "nbformat": 4,
 "nbformat_minor": 2
}
