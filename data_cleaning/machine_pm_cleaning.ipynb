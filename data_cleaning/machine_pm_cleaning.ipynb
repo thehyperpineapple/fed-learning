{
 "cells": [
  {
   "cell_type": "code",
   "execution_count": 1,
   "metadata": {},
   "outputs": [],
   "source": [
    "import pandas as pd\n",
    "from sklearn.preprocessing import StandardScaler"
   ]
  },
  {
   "cell_type": "code",
   "execution_count": 2,
   "metadata": {},
   "outputs": [],
   "source": [
    "df = pd.read_csv(\"../../Datasets/Machine Predictive Maintenance Classification/predictive_maintenance.csv\")"
   ]
  },
  {
   "cell_type": "markdown",
   "metadata": {},
   "source": [
    "### Feature Columns\n",
    "\n",
    "- UID: unique identifier ranging from 1 to 10000\n",
    "- productID: consisting of a letter L, M, or H for low (50% of all products), medium (30%), and high (20%) as product quality variants and a variant-specific serial number\n",
    "- air temperature [K]: generated using a random walk process later normalized to a standard deviation of 2 K around 300 K\n",
    "- process temperature [K]: generated using a random walk process normalized to a standard deviation of 1 K, added to the air temperature plus 10 K.\n",
    "- rotational speed [rpm]: calculated from powepower of 2860 W, overlaid with a normally distributed noise\n",
    "- torque [Nm]: torque values are normally distributed around 40 Nm with an Ïƒ = 10 Nm and no negative values.\n",
    "- tool wear [min]: The quality variants H/M/L add 5/3/2 minutes of tool wear to the used tool in the process. and a\n",
    "-'machine failure' label that indicates, whether the machine has failed in this particular data point for any of the following failure modes are true.\n",
    "\n",
    "### Target Columns\n",
    "\n",
    "There are two Targets (Do not make the mistake of using one of them as feature, as it will lead to leakage)\n",
    "- Target : Failure or Not\n",
    "- Failure Type : Type of Failure"
   ]
  },
  {
   "cell_type": "code",
   "execution_count": 24,
   "metadata": {},
   "outputs": [
    {
     "name": "stdout",
     "output_type": "stream",
     "text": [
      "<class 'pandas.core.frame.DataFrame'>\n",
      "RangeIndex: 10000 entries, 0 to 9999\n",
      "Data columns (total 10 columns):\n",
      " #   Column                   Non-Null Count  Dtype  \n",
      "---  ------                   --------------  -----  \n",
      " 0   UDI                      10000 non-null  int64  \n",
      " 1   Product ID               10000 non-null  object \n",
      " 2   Type                     10000 non-null  object \n",
      " 3   Air temperature [K]      10000 non-null  float64\n",
      " 4   Process temperature [K]  10000 non-null  float64\n",
      " 5   Rotational speed [rpm]   10000 non-null  int64  \n",
      " 6   Torque [Nm]              10000 non-null  float64\n",
      " 7   Tool wear [min]          10000 non-null  int64  \n",
      " 8   Target                   10000 non-null  int64  \n",
      " 9   Failure Type             10000 non-null  object \n",
      "dtypes: float64(3), int64(4), object(3)\n",
      "memory usage: 781.4+ KB\n"
     ]
    }
   ],
   "source": [
    "df.info()"
   ]
  },
  {
   "cell_type": "code",
   "execution_count": 14,
   "metadata": {},
   "outputs": [
    {
     "data": {
      "text/plain": [
       "Type\n",
       "H    1003\n",
       "L    6000\n",
       "M    2997\n",
       "dtype: int64"
      ]
     },
     "execution_count": 14,
     "metadata": {},
     "output_type": "execute_result"
    }
   ],
   "source": []
  },
  {
   "cell_type": "code",
   "execution_count": 36,
   "metadata": {},
   "outputs": [],
   "source": [
    "# Concatenate the sampled dataframes\n",
    "df_sampled = pd.concat([df[df['Type'] == 'H'].sample(n=1003, random_state=42),\n",
    "                        df[df['Type'] == 'L'].sample(n=1003, random_state=42), \n",
    "                        df[df['Type'] == 'M'].sample(n=1003, random_state=42)])"
   ]
  },
  {
   "cell_type": "code",
   "execution_count": 37,
   "metadata": {},
   "outputs": [
    {
     "data": {
      "text/plain": [
       "Type\n",
       "H    1003\n",
       "L    1003\n",
       "M    1003\n",
       "dtype: int64"
      ]
     },
     "execution_count": 37,
     "metadata": {},
     "output_type": "execute_result"
    }
   ],
   "source": [
    "df_sampled.groupby('Type').size()"
   ]
  },
  {
   "cell_type": "code",
   "execution_count": 3,
   "metadata": {},
   "outputs": [],
   "source": [
    "# scaler = StandardScaler()\n",
    "scaling_features = [\"Air temperature [K]\", \"Process temperature [K]\", \"Rotational speed [rpm]\", \"Torque [Nm]\", \"Tool wear [min]\"] \n",
    "# df_scaled = scaler.fit_transform(df_sampled[scaling_features])\n",
    "for feature in scaling_features:\n",
    "    df[feature] = df[feature]/df[feature].max()\n"
   ]
  },
  {
   "cell_type": "code",
   "execution_count": 4,
   "metadata": {},
   "outputs": [
    {
     "data": {
      "text/html": [
       "<div>\n",
       "<style scoped>\n",
       "    .dataframe tbody tr th:only-of-type {\n",
       "        vertical-align: middle;\n",
       "    }\n",
       "\n",
       "    .dataframe tbody tr th {\n",
       "        vertical-align: top;\n",
       "    }\n",
       "\n",
       "    .dataframe thead th {\n",
       "        text-align: right;\n",
       "    }\n",
       "</style>\n",
       "<table border=\"1\" class=\"dataframe\">\n",
       "  <thead>\n",
       "    <tr style=\"text-align: right;\">\n",
       "      <th></th>\n",
       "      <th>UDI</th>\n",
       "      <th>Air temperature [K]</th>\n",
       "      <th>Process temperature [K]</th>\n",
       "      <th>Rotational speed [rpm]</th>\n",
       "      <th>Torque [Nm]</th>\n",
       "      <th>Tool wear [min]</th>\n",
       "      <th>Target</th>\n",
       "    </tr>\n",
       "  </thead>\n",
       "  <tbody>\n",
       "    <tr>\n",
       "      <th>count</th>\n",
       "      <td>10000.00000</td>\n",
       "      <td>10000.000000</td>\n",
       "      <td>10000.000000</td>\n",
       "      <td>10000.000000</td>\n",
       "      <td>10000.000000</td>\n",
       "      <td>10000.000000</td>\n",
       "      <td>10000.000000</td>\n",
       "    </tr>\n",
       "    <tr>\n",
       "      <th>mean</th>\n",
       "      <td>5000.50000</td>\n",
       "      <td>0.985238</td>\n",
       "      <td>0.987908</td>\n",
       "      <td>0.533186</td>\n",
       "      <td>0.522022</td>\n",
       "      <td>0.426684</td>\n",
       "      <td>0.033900</td>\n",
       "    </tr>\n",
       "    <tr>\n",
       "      <th>std</th>\n",
       "      <td>2886.89568</td>\n",
       "      <td>0.006569</td>\n",
       "      <td>0.004728</td>\n",
       "      <td>0.062122</td>\n",
       "      <td>0.130143</td>\n",
       "      <td>0.251597</td>\n",
       "      <td>0.180981</td>\n",
       "    </tr>\n",
       "    <tr>\n",
       "      <th>min</th>\n",
       "      <td>1.00000</td>\n",
       "      <td>0.969787</td>\n",
       "      <td>0.974187</td>\n",
       "      <td>0.404712</td>\n",
       "      <td>0.049608</td>\n",
       "      <td>0.000000</td>\n",
       "      <td>0.000000</td>\n",
       "    </tr>\n",
       "    <tr>\n",
       "      <th>25%</th>\n",
       "      <td>2500.75000</td>\n",
       "      <td>0.979639</td>\n",
       "      <td>0.984066</td>\n",
       "      <td>0.493070</td>\n",
       "      <td>0.433420</td>\n",
       "      <td>0.209486</td>\n",
       "      <td>0.000000</td>\n",
       "    </tr>\n",
       "    <tr>\n",
       "      <th>50%</th>\n",
       "      <td>5000.50000</td>\n",
       "      <td>0.985550</td>\n",
       "      <td>0.988209</td>\n",
       "      <td>0.520790</td>\n",
       "      <td>0.523499</td>\n",
       "      <td>0.426877</td>\n",
       "      <td>0.000000</td>\n",
       "    </tr>\n",
       "    <tr>\n",
       "      <th>75%</th>\n",
       "      <td>7500.25000</td>\n",
       "      <td>0.990148</td>\n",
       "      <td>0.991396</td>\n",
       "      <td>0.558559</td>\n",
       "      <td>0.610966</td>\n",
       "      <td>0.640316</td>\n",
       "      <td>0.000000</td>\n",
       "    </tr>\n",
       "    <tr>\n",
       "      <th>max</th>\n",
       "      <td>10000.00000</td>\n",
       "      <td>1.000000</td>\n",
       "      <td>1.000000</td>\n",
       "      <td>1.000000</td>\n",
       "      <td>1.000000</td>\n",
       "      <td>1.000000</td>\n",
       "      <td>1.000000</td>\n",
       "    </tr>\n",
       "  </tbody>\n",
       "</table>\n",
       "</div>"
      ],
      "text/plain": [
       "               UDI  Air temperature [K]  Process temperature [K]   \n",
       "count  10000.00000         10000.000000             10000.000000  \\\n",
       "mean    5000.50000             0.985238                 0.987908   \n",
       "std     2886.89568             0.006569                 0.004728   \n",
       "min        1.00000             0.969787                 0.974187   \n",
       "25%     2500.75000             0.979639                 0.984066   \n",
       "50%     5000.50000             0.985550                 0.988209   \n",
       "75%     7500.25000             0.990148                 0.991396   \n",
       "max    10000.00000             1.000000                 1.000000   \n",
       "\n",
       "       Rotational speed [rpm]   Torque [Nm]  Tool wear [min]        Target  \n",
       "count            10000.000000  10000.000000     10000.000000  10000.000000  \n",
       "mean                 0.533186      0.522022         0.426684      0.033900  \n",
       "std                  0.062122      0.130143         0.251597      0.180981  \n",
       "min                  0.404712      0.049608         0.000000      0.000000  \n",
       "25%                  0.493070      0.433420         0.209486      0.000000  \n",
       "50%                  0.520790      0.523499         0.426877      0.000000  \n",
       "75%                  0.558559      0.610966         0.640316      0.000000  \n",
       "max                  1.000000      1.000000         1.000000      1.000000  "
      ]
     },
     "execution_count": 4,
     "metadata": {},
     "output_type": "execute_result"
    }
   ],
   "source": [
    "# df_sampled.describe()\n",
    "df.describe()"
   ]
  },
  {
   "cell_type": "code",
   "execution_count": 14,
   "metadata": {},
   "outputs": [],
   "source": [
    "df = df.drop(['UDI', 'Product ID', 'Type'], axis=1)"
   ]
  },
  {
   "cell_type": "code",
   "execution_count": 15,
   "metadata": {},
   "outputs": [
    {
     "data": {
      "text/html": [
       "<div>\n",
       "<style scoped>\n",
       "    .dataframe tbody tr th:only-of-type {\n",
       "        vertical-align: middle;\n",
       "    }\n",
       "\n",
       "    .dataframe tbody tr th {\n",
       "        vertical-align: top;\n",
       "    }\n",
       "\n",
       "    .dataframe thead th {\n",
       "        text-align: right;\n",
       "    }\n",
       "</style>\n",
       "<table border=\"1\" class=\"dataframe\">\n",
       "  <thead>\n",
       "    <tr style=\"text-align: right;\">\n",
       "      <th></th>\n",
       "      <th>Air temperature [K]</th>\n",
       "      <th>Process temperature [K]</th>\n",
       "      <th>Rotational speed [rpm]</th>\n",
       "      <th>Torque [Nm]</th>\n",
       "      <th>Tool wear [min]</th>\n",
       "      <th>Target</th>\n",
       "      <th>Failure Type</th>\n",
       "    </tr>\n",
       "  </thead>\n",
       "  <tbody>\n",
       "    <tr>\n",
       "      <th>0</th>\n",
       "      <td>0.978982</td>\n",
       "      <td>0.983429</td>\n",
       "      <td>0.537422</td>\n",
       "      <td>0.558747</td>\n",
       "      <td>0.000000</td>\n",
       "      <td>0</td>\n",
       "      <td>No Failure</td>\n",
       "    </tr>\n",
       "    <tr>\n",
       "      <th>1</th>\n",
       "      <td>0.979310</td>\n",
       "      <td>0.983748</td>\n",
       "      <td>0.487872</td>\n",
       "      <td>0.604439</td>\n",
       "      <td>0.011858</td>\n",
       "      <td>0</td>\n",
       "      <td>No Failure</td>\n",
       "    </tr>\n",
       "    <tr>\n",
       "      <th>2</th>\n",
       "      <td>0.978982</td>\n",
       "      <td>0.983110</td>\n",
       "      <td>0.519058</td>\n",
       "      <td>0.644909</td>\n",
       "      <td>0.019763</td>\n",
       "      <td>0</td>\n",
       "      <td>No Failure</td>\n",
       "    </tr>\n",
       "    <tr>\n",
       "      <th>3</th>\n",
       "      <td>0.979310</td>\n",
       "      <td>0.983429</td>\n",
       "      <td>0.496535</td>\n",
       "      <td>0.515666</td>\n",
       "      <td>0.027668</td>\n",
       "      <td>0</td>\n",
       "      <td>No Failure</td>\n",
       "    </tr>\n",
       "    <tr>\n",
       "      <th>4</th>\n",
       "      <td>0.979310</td>\n",
       "      <td>0.983748</td>\n",
       "      <td>0.487872</td>\n",
       "      <td>0.522193</td>\n",
       "      <td>0.035573</td>\n",
       "      <td>0</td>\n",
       "      <td>No Failure</td>\n",
       "    </tr>\n",
       "  </tbody>\n",
       "</table>\n",
       "</div>"
      ],
      "text/plain": [
       "   Air temperature [K]  Process temperature [K]  Rotational speed [rpm]   \n",
       "0             0.978982                 0.983429                0.537422  \\\n",
       "1             0.979310                 0.983748                0.487872   \n",
       "2             0.978982                 0.983110                0.519058   \n",
       "3             0.979310                 0.983429                0.496535   \n",
       "4             0.979310                 0.983748                0.487872   \n",
       "\n",
       "   Torque [Nm]  Tool wear [min]  Target Failure Type  \n",
       "0     0.558747         0.000000       0   No Failure  \n",
       "1     0.604439         0.011858       0   No Failure  \n",
       "2     0.644909         0.019763       0   No Failure  \n",
       "3     0.515666         0.027668       0   No Failure  \n",
       "4     0.522193         0.035573       0   No Failure  "
      ]
     },
     "execution_count": 15,
     "metadata": {},
     "output_type": "execute_result"
    }
   ],
   "source": [
    "df.head()"
   ]
  },
  {
   "cell_type": "code",
   "execution_count": 17,
   "metadata": {},
   "outputs": [],
   "source": [
    "binary_df = multi_class_df = df\n",
    "binary_df = binary_df.drop(columns=[\"Failure Type\"])\n",
    "multi_class_df = multi_class_df.drop(columns=[\"Target\"])\n",
    "binary_df.to_csv(\"../../Datasets/Machine Predictive Maintenance Classification/binary_classification.csv\")\n",
    "multi_class_df.to_csv(\"../../Datasets/Machine Predictive Maintenance Classification/multi_class_classification.csv\")"
   ]
  },
  {
   "cell_type": "code",
   "execution_count": null,
   "metadata": {},
   "outputs": [],
   "source": []
  }
 ],
 "metadata": {
  "kernelspec": {
   "display_name": "fed-learning",
   "language": "python",
   "name": "fed-learning"
  },
  "language_info": {
   "codemirror_mode": {
    "name": "ipython",
    "version": 3
   },
   "file_extension": ".py",
   "mimetype": "text/x-python",
   "name": "python",
   "nbconvert_exporter": "python",
   "pygments_lexer": "ipython3",
   "version": "3.9.13"
  }
 },
 "nbformat": 4,
 "nbformat_minor": 2
}
