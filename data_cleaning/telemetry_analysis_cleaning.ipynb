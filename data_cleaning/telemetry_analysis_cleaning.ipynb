{
 "cells": [
  {
   "cell_type": "code",
   "execution_count": 27,
   "metadata": {},
   "outputs": [],
   "source": [
    "import pandas as pd\n",
    "from sklearn.preprocessing import LabelEncoder"
   ]
  },
  {
   "cell_type": "code",
   "execution_count": 28,
   "metadata": {},
   "outputs": [],
   "source": [
    "errors_df = pd.read_csv('../../datasets/telemetry_analysis/raw/PdM_errors.csv')\n",
    "failures_df = pd.read_csv('../../datasets/telemetry_analysis/raw/PdM_failures.csv')\n",
    "machines_df = pd.read_csv('../../datasets/telemetry_analysis/raw/PdM_machines.csv')\n",
    "maint_df = pd.read_csv('../../datasets/telemetry_analysis/raw/PdM_maint.csv')\n",
    "telemetry_df = pd.read_csv('../../datasets/telemetry_analysis/raw/PdM_telemetry.csv')\n",
    "\n",
    "df_list = [errors_df, failures_df, machines_df, maint_df, telemetry_df]"
   ]
  },
  {
   "cell_type": "code",
   "execution_count": 29,
   "metadata": {},
   "outputs": [],
   "source": [
    "telemetry_df = telemetry_df.merge(errors_df, on=['datetime', 'machineID'], how='left')\n",
    "# telemetry_df['error'].fillna('no error')"
   ]
  },
  {
   "cell_type": "code",
   "execution_count": 30,
   "metadata": {},
   "outputs": [],
   "source": [
    "telemetry_df['errorID'] = telemetry_df['errorID'].apply(lambda x: 'error' if pd.notnull(x) else x)\n",
    "telemetry_df['errorID'] = telemetry_df['errorID'].fillna('no error')"
   ]
  },
  {
   "cell_type": "code",
   "execution_count": 31,
   "metadata": {},
   "outputs": [
    {
     "data": {
      "text/plain": [
       "errorID\n",
       "no error    872484\n",
       "error         3919\n",
       "Name: count, dtype: int64"
      ]
     },
     "execution_count": 31,
     "metadata": {},
     "output_type": "execute_result"
    }
   ],
   "source": [
    "telemetry_df['errorID'].value_counts()"
   ]
  },
  {
   "cell_type": "code",
   "execution_count": 32,
   "metadata": {},
   "outputs": [
    {
     "data": {
      "text/html": [
       "<div>\n",
       "<style scoped>\n",
       "    .dataframe tbody tr th:only-of-type {\n",
       "        vertical-align: middle;\n",
       "    }\n",
       "\n",
       "    .dataframe tbody tr th {\n",
       "        vertical-align: top;\n",
       "    }\n",
       "\n",
       "    .dataframe thead th {\n",
       "        text-align: right;\n",
       "    }\n",
       "</style>\n",
       "<table border=\"1\" class=\"dataframe\">\n",
       "  <thead>\n",
       "    <tr style=\"text-align: right;\">\n",
       "      <th></th>\n",
       "      <th>machineID</th>\n",
       "      <th>volt</th>\n",
       "      <th>rotate</th>\n",
       "      <th>pressure</th>\n",
       "      <th>vibration</th>\n",
       "    </tr>\n",
       "  </thead>\n",
       "  <tbody>\n",
       "    <tr>\n",
       "      <th>count</th>\n",
       "      <td>876403.000000</td>\n",
       "      <td>876403.000000</td>\n",
       "      <td>876403.000000</td>\n",
       "      <td>876403.000000</td>\n",
       "      <td>876403.000000</td>\n",
       "    </tr>\n",
       "    <tr>\n",
       "      <th>mean</th>\n",
       "      <td>50.499881</td>\n",
       "      <td>170.778661</td>\n",
       "      <td>446.581017</td>\n",
       "      <td>100.859063</td>\n",
       "      <td>40.385313</td>\n",
       "    </tr>\n",
       "    <tr>\n",
       "      <th>std</th>\n",
       "      <td>28.866464</td>\n",
       "      <td>15.509312</td>\n",
       "      <td>52.690553</td>\n",
       "      <td>11.049361</td>\n",
       "      <td>5.371011</td>\n",
       "    </tr>\n",
       "    <tr>\n",
       "      <th>min</th>\n",
       "      <td>1.000000</td>\n",
       "      <td>97.333604</td>\n",
       "      <td>138.432075</td>\n",
       "      <td>51.237106</td>\n",
       "      <td>14.877054</td>\n",
       "    </tr>\n",
       "    <tr>\n",
       "      <th>25%</th>\n",
       "      <td>25.000000</td>\n",
       "      <td>160.305454</td>\n",
       "      <td>412.276186</td>\n",
       "      <td>93.498263</td>\n",
       "      <td>36.777284</td>\n",
       "    </tr>\n",
       "    <tr>\n",
       "      <th>50%</th>\n",
       "      <td>50.000000</td>\n",
       "      <td>170.608375</td>\n",
       "      <td>447.541974</td>\n",
       "      <td>100.425337</td>\n",
       "      <td>40.237407</td>\n",
       "    </tr>\n",
       "    <tr>\n",
       "      <th>75%</th>\n",
       "      <td>76.000000</td>\n",
       "      <td>181.005541</td>\n",
       "      <td>482.162160</td>\n",
       "      <td>107.555370</td>\n",
       "      <td>43.785205</td>\n",
       "    </tr>\n",
       "    <tr>\n",
       "      <th>max</th>\n",
       "      <td>100.000000</td>\n",
       "      <td>255.124717</td>\n",
       "      <td>695.020984</td>\n",
       "      <td>185.951998</td>\n",
       "      <td>76.791072</td>\n",
       "    </tr>\n",
       "  </tbody>\n",
       "</table>\n",
       "</div>"
      ],
      "text/plain": [
       "           machineID           volt         rotate       pressure   \n",
       "count  876403.000000  876403.000000  876403.000000  876403.000000  \\\n",
       "mean       50.499881     170.778661     446.581017     100.859063   \n",
       "std        28.866464      15.509312      52.690553      11.049361   \n",
       "min         1.000000      97.333604     138.432075      51.237106   \n",
       "25%        25.000000     160.305454     412.276186      93.498263   \n",
       "50%        50.000000     170.608375     447.541974     100.425337   \n",
       "75%        76.000000     181.005541     482.162160     107.555370   \n",
       "max       100.000000     255.124717     695.020984     185.951998   \n",
       "\n",
       "           vibration  \n",
       "count  876403.000000  \n",
       "mean       40.385313  \n",
       "std         5.371011  \n",
       "min        14.877054  \n",
       "25%        36.777284  \n",
       "50%        40.237407  \n",
       "75%        43.785205  \n",
       "max        76.791072  "
      ]
     },
     "execution_count": 32,
     "metadata": {},
     "output_type": "execute_result"
    }
   ],
   "source": [
    "telemetry_df.describe()"
   ]
  },
  {
   "cell_type": "code",
   "execution_count": 33,
   "metadata": {},
   "outputs": [],
   "source": [
    "scaling_features = ['volt', 'rotate', 'pressure','vibration']\n",
    "\n",
    "for feature in scaling_features:\n",
    "    telemetry_df[feature] = telemetry_df[feature]/telemetry_df[feature].max()"
   ]
  },
  {
   "cell_type": "code",
   "execution_count": 34,
   "metadata": {},
   "outputs": [],
   "source": [
    "le = LabelEncoder()\n",
    "telemetry_df['encoded_errors'] = le.fit_transform(telemetry_df['errorID'])"
   ]
  },
  {
   "cell_type": "code",
   "execution_count": 35,
   "metadata": {},
   "outputs": [],
   "source": [
    "telemetry_df = telemetry_df.drop(columns = [\"datetime\", \"errorID\"], axis=1)"
   ]
  },
  {
   "cell_type": "code",
   "execution_count": 36,
   "metadata": {},
   "outputs": [
    {
     "data": {
      "text/html": [
       "<div>\n",
       "<style scoped>\n",
       "    .dataframe tbody tr th:only-of-type {\n",
       "        vertical-align: middle;\n",
       "    }\n",
       "\n",
       "    .dataframe tbody tr th {\n",
       "        vertical-align: top;\n",
       "    }\n",
       "\n",
       "    .dataframe thead th {\n",
       "        text-align: right;\n",
       "    }\n",
       "</style>\n",
       "<table border=\"1\" class=\"dataframe\">\n",
       "  <thead>\n",
       "    <tr style=\"text-align: right;\">\n",
       "      <th></th>\n",
       "      <th>machineID</th>\n",
       "      <th>volt</th>\n",
       "      <th>rotate</th>\n",
       "      <th>pressure</th>\n",
       "      <th>vibration</th>\n",
       "      <th>encoded_errors</th>\n",
       "    </tr>\n",
       "  </thead>\n",
       "  <tbody>\n",
       "    <tr>\n",
       "      <th>0</th>\n",
       "      <td>1</td>\n",
       "      <td>0.690713</td>\n",
       "      <td>0.602146</td>\n",
       "      <td>0.608103</td>\n",
       "      <td>0.587147</td>\n",
       "      <td>1</td>\n",
       "    </tr>\n",
       "    <tr>\n",
       "      <th>1</th>\n",
       "      <td>1</td>\n",
       "      <td>0.638430</td>\n",
       "      <td>0.579475</td>\n",
       "      <td>0.513361</td>\n",
       "      <td>0.565352</td>\n",
       "      <td>1</td>\n",
       "    </tr>\n",
       "    <tr>\n",
       "      <th>2</th>\n",
       "      <td>1</td>\n",
       "      <td>0.670221</td>\n",
       "      <td>0.758754</td>\n",
       "      <td>0.404609</td>\n",
       "      <td>0.445089</td>\n",
       "      <td>1</td>\n",
       "    </tr>\n",
       "    <tr>\n",
       "      <th>3</th>\n",
       "      <td>1</td>\n",
       "      <td>0.636798</td>\n",
       "      <td>0.498042</td>\n",
       "      <td>0.587509</td>\n",
       "      <td>0.535507</td>\n",
       "      <td>1</td>\n",
       "    </tr>\n",
       "    <tr>\n",
       "      <th>4</th>\n",
       "      <td>1</td>\n",
       "      <td>0.617776</td>\n",
       "      <td>0.626423</td>\n",
       "      <td>0.601696</td>\n",
       "      <td>0.338457</td>\n",
       "      <td>1</td>\n",
       "    </tr>\n",
       "    <tr>\n",
       "      <th>5</th>\n",
       "      <td>1</td>\n",
       "      <td>0.676159</td>\n",
       "      <td>0.619152</td>\n",
       "      <td>0.515870</td>\n",
       "      <td>0.464312</td>\n",
       "      <td>1</td>\n",
       "    </tr>\n",
       "    <tr>\n",
       "      <th>6</th>\n",
       "      <td>1</td>\n",
       "      <td>0.613645</td>\n",
       "      <td>0.718067</td>\n",
       "      <td>0.600992</td>\n",
       "      <td>0.556756</td>\n",
       "      <td>1</td>\n",
       "    </tr>\n",
       "    <tr>\n",
       "      <th>7</th>\n",
       "      <td>1</td>\n",
       "      <td>0.676229</td>\n",
       "      <td>0.589370</td>\n",
       "      <td>0.543157</td>\n",
       "      <td>0.462059</td>\n",
       "      <td>1</td>\n",
       "    </tr>\n",
       "    <tr>\n",
       "      <th>8</th>\n",
       "      <td>1</td>\n",
       "      <td>0.687211</td>\n",
       "      <td>0.573578</td>\n",
       "      <td>0.594908</td>\n",
       "      <td>0.592286</td>\n",
       "      <td>1</td>\n",
       "    </tr>\n",
       "    <tr>\n",
       "      <th>9</th>\n",
       "      <td>1</td>\n",
       "      <td>0.663277</td>\n",
       "      <td>0.663074</td>\n",
       "      <td>0.563846</td>\n",
       "      <td>0.519614</td>\n",
       "      <td>1</td>\n",
       "    </tr>\n",
       "  </tbody>\n",
       "</table>\n",
       "</div>"
      ],
      "text/plain": [
       "   machineID      volt    rotate  pressure  vibration  encoded_errors\n",
       "0          1  0.690713  0.602146  0.608103   0.587147               1\n",
       "1          1  0.638430  0.579475  0.513361   0.565352               1\n",
       "2          1  0.670221  0.758754  0.404609   0.445089               1\n",
       "3          1  0.636798  0.498042  0.587509   0.535507               1\n",
       "4          1  0.617776  0.626423  0.601696   0.338457               1\n",
       "5          1  0.676159  0.619152  0.515870   0.464312               1\n",
       "6          1  0.613645  0.718067  0.600992   0.556756               1\n",
       "7          1  0.676229  0.589370  0.543157   0.462059               1\n",
       "8          1  0.687211  0.573578  0.594908   0.592286               1\n",
       "9          1  0.663277  0.663074  0.563846   0.519614               1"
      ]
     },
     "execution_count": 36,
     "metadata": {},
     "output_type": "execute_result"
    }
   ],
   "source": [
    "telemetry_df.head(10)"
   ]
  },
  {
   "cell_type": "code",
   "execution_count": 37,
   "metadata": {},
   "outputs": [
    {
     "name": "stdout",
     "output_type": "stream",
     "text": [
      "Classes: ['error' 'no error']\n",
      "Encoded values: [0 1]\n"
     ]
    }
   ],
   "source": [
    "print(\"Classes:\", le.classes_)\n",
    "print(\"Encoded values:\", le.transform(le.classes_))"
   ]
  },
  {
   "cell_type": "code",
   "execution_count": 38,
   "metadata": {},
   "outputs": [],
   "source": [
    "telemetry_df.to_csv('telemetry_analysis.csv')"
   ]
  },
  {
   "cell_type": "code",
   "execution_count": null,
   "metadata": {},
   "outputs": [],
   "source": []
  }
 ],
 "metadata": {
  "kernelspec": {
   "display_name": "fed-learning",
   "language": "python",
   "name": "fed-learning"
  },
  "language_info": {
   "codemirror_mode": {
    "name": "ipython",
    "version": 3
   },
   "file_extension": ".py",
   "mimetype": "text/x-python",
   "name": "python",
   "nbconvert_exporter": "python",
   "pygments_lexer": "ipython3",
   "version": "3.9.13"
  }
 },
 "nbformat": 4,
 "nbformat_minor": 2
}
